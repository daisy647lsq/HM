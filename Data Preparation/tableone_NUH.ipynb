{
 "cells": [
  {
   "cell_type": "code",
   "execution_count": 2,
   "metadata": {},
   "outputs": [],
   "source": [
    "from tableone import TableOne\n",
    "import numpy as np\n",
    "import matplotlib.pyplot as plt \n",
    "import pandas as pd\n",
    "pd.set_option('display.max_rows', 500)\n",
    "pd.set_option('display.max_columns', 500)\n",
    "pd.set_option('display.width', 500)\n",
    "\n",
    "plt.style.use('ggplot')"
   ]
  },
  {
   "cell_type": "code",
   "execution_count": 3,
   "metadata": {},
   "outputs": [],
   "source": [
    "NUHdata = pd.read_csv(\"NUH_HM data.csv\", index_col=0)"
   ]
  },
  {
   "cell_type": "code",
   "execution_count": 4,
   "metadata": {},
   "outputs": [
    {
     "data": {
      "text/plain": [
       "Index(['ICU ADMISSION', 'ICU DISCHARGE', 'DOB', 'age', 'gender', 'WEIGHT', 'BMI', 'hypertension', 'congestive_heart_failure', 'IHD', 'cardiac_arrhythmias', 'VTE', 'STROKE', 'HYPERLIPID', 'ASTHMA', 'chronic_pulmonary', 'EPILEPSY', 'depression', 'ANIXETY DISORDER', 'diabetes_uncomplicated', 'hypothyroidism', 'NEPHROTIC SYNDROME', 'NEPHRITIC SYNDROME', 'renal_failure', 'rheumatoid_arthritis', 'OA', 'GOUT', 'liver_disease', 'peptic_ulcer', 'GERD', 'IBD', 'ICU ADMISSION TIME', 'ICU DISCHARGE TIME',\n",
       "       'LENGTH OF ICU STAY', 'mort_icu', 'mort_hosp', 'Death Time', 'DATE OF DISCHARGE', 'DURATION OF HOSPITAL ADMISSION', 'HM _TYPE', 'leukemia', 'lymphoma', 'myeloma', 'myelodysplastic_syndrome', 'rbc_1', 'platelet_1', 'NEUTROPENIA', 'wbc', 'hemoglobin', 'platelet', 'sodium', 'potassium', 'urea', 'creatinine', 'bilirubin', 'ast', 'alt', 'abg_ph', 'abg_pco2', 'abg_po2', 'abg_bicarbonate', 'STANDARD BICARB', 'abg_baseexcess', 'abg_spo2', 'abg_lactate', 'p_blood_culture_1', 'APACHE SCORE',\n",
       "       'sofa', 'REASON FOR ICU ADMISSION', 'ventilation_1', 'vasopressor_1', 'rrt', '3_MONTHS_Mortality', '1_YEAR _Mortality', 'CAUSE_OF_DEATH'],\n",
       "      dtype='object')"
      ]
     },
     "execution_count": 4,
     "metadata": {},
     "output_type": "execute_result"
    }
   ],
   "source": [
    "NUHdata.columns"
   ]
  },
  {
   "cell_type": "code",
   "execution_count": 5,
   "metadata": {},
   "outputs": [
    {
     "data": {
      "text/plain": [
       "(264, 75)"
      ]
     },
     "execution_count": 5,
     "metadata": {},
     "output_type": "execute_result"
    }
   ],
   "source": [
    "#df.shape\n",
    "NUHdata.shape"
   ]
  },
  {
   "cell_type": "code",
   "execution_count": 6,
   "metadata": {},
   "outputs": [],
   "source": [
    "df=pd.DataFrame(NUHdata, columns=['age', 'sofa','wbc','hemoglobin','platelet','sodium','potassium','urea','creatinine','bilirubin',\n",
    "                                  'ast','alt',\n",
    "                                  'abg_ph', 'abg_pco2', 'abg_po2', 'abg_bicarbonate','abg_baseexcess', 'abg_spo2', 'abg_lactate',\n",
    "                                  'gender','p_blood_culture_1', 'rbc_1', 'platelet_1','ventilation_1','vasopressor_1', 'rrt',\n",
    "                                  'hypertension', 'congestive_heart_failure', 'cardiac_arrhythmias', 'chronic_pulmonary',\n",
    "                                  'depression', 'diabetes_uncomplicated', 'hypothyroidism',\n",
    "                                  'renal_failure', 'rheumatoid_arthritis', 'liver_disease','peptic_ulcer',\n",
    "                                  'leukemia','lymphoma','myeloma','myelodysplastic_syndrome',\n",
    "           \n",
    "                                  'mort_icu'\n",
    "    \n",
    "])\n",
    "df[['p_blood_culture_1', 'rbc_1', 'platelet_1', 'vasopressor_1', \n",
    "      'ventilation_1','leukemia','lymphoma','myelodysplastic_syndrome',\n",
    "      'myeloma']] = df[['p_blood_culture_1', 'rbc_1', 'platelet_1', 'vasopressor_1', 'ventilation_1',\n",
    "                          'leukemia','lymphoma','myelodysplastic_syndrome','myeloma']].fillna(0) "
   ]
  },
  {
   "cell_type": "code",
   "execution_count": 7,
   "metadata": {},
   "outputs": [
    {
     "data": {
      "text/plain": [
       "(264, 42)"
      ]
     },
     "execution_count": 7,
     "metadata": {},
     "output_type": "execute_result"
    }
   ],
   "source": [
    "df.shape"
   ]
  },
  {
   "cell_type": "code",
   "execution_count": 8,
   "metadata": {},
   "outputs": [],
   "source": [
    "columns = [\n",
    "           'gender',\n",
    "           'p_blood_culture_1', 'rbc_1', 'platelet_1',\n",
    "           'ventilation_1','vasopressor_1', 'rrt',\n",
    "           'age', 'sofa',\n",
    "           'wbc','hemoglobin','platelet','sodium','potassium','urea','creatinine','bilirubin', \n",
    "           'ast', 'alt',\n",
    "           'abg_ph', 'abg_pco2', 'abg_po2', 'abg_bicarbonate','abg_baseexcess', 'abg_spo2', 'abg_lactate', \n",
    "           'hypertension','congestive_heart_failure', 'cardiac_arrhythmias', 'chronic_pulmonary','depression',\n",
    "           'diabetes_uncomplicated', 'hypothyroidism','renal_failure', 'rheumatoid_arthritis', \n",
    "           'liver_disease','peptic_ulcer',\n",
    "           'leukemia','lymphoma','myeloma','myelodysplastic_syndrome'\n",
    "        ]\n",
    "categorical = ['gender',\n",
    "               'p_blood_culture_1','rbc_1','platelet_1',\n",
    "               'ventilation_1','vasopressor_1','rrt',\n",
    "               'hypertension','congestive_heart_failure', 'cardiac_arrhythmias', 'chronic_pulmonary','depression',\n",
    "               'diabetes_uncomplicated', 'hypothyroidism','renal_failure', 'rheumatoid_arthritis',\n",
    "               'liver_disease','peptic_ulcer','leukemia','lymphoma','myeloma','myelodysplastic_syndrome'\n",
    "              ]\n",
    "nonnormal = ['age','sofa','wbc','hemoglobin','platelet','sodium','potassium','urea','creatinine'\n",
    "             ,'bilirubin', 'ast','alt','abg_ph', 'abg_pco2', 'abg_po2', 'abg_bicarbonate','abg_baseexcess', 'abg_spo2', 'abg_lactate'\n",
    "             ]\n",
    "groupby = 'mort_icu'\n"
   ]
  },
  {
   "cell_type": "code",
   "execution_count": 9,
   "metadata": {},
   "outputs": [],
   "source": [
    "overall_table = TableOne(df, columns, categorical, groupby, nonnormal, pval=True)"
   ]
  },
  {
   "cell_type": "code",
   "execution_count": 10,
   "metadata": {
    "scrolled": false
   },
   "outputs": [
    {
     "data": {
      "text/plain": [
       "Stratified by mort_icu\n",
       "                                  0                       1                         isnull  pval    testname\n",
       "--------------------------------  ----------------------  ----------------------  --------  ------  --------------\n",
       "n                                 172                     92                             0\n",
       "age (median [IQR])                57.00 [37.00,66.00]     56.00 [46.00,63.25]            0  0.990   Kruskal-Wallis\n",
       "sofa (median [IQR])               7.00 [4.00,9.00]        10.00 [7.00,13.00]             0  0.000   Kruskal-Wallis\n",
       "wbc (median [IQR])                4.31 [0.32,14.88]       1.83 [0.12,11.56]              0  0.040   Kruskal-Wallis\n",
       "hemoglobin (median [IQR])         8.20 [6.97,9.40]        7.55 [6.80,8.80]               0  0.038   Kruskal-Wallis\n",
       "platelet (median [IQR])           49.00 [21.75,143.00]    41.00 [15.75,69.75]            0  0.015   Kruskal-Wallis\n",
       "sodium (median [IQR])             137.00 [135.00,141.00]  137.00 [132.25,141.00]         3  0.422   Kruskal-Wallis\n",
       "potassium (median [IQR])          3.80 [3.30,4.30]        3.80 [3.40,4.30]               3  0.820   Kruskal-Wallis\n",
       "urea (median [IQR])               7.20 [4.50,11.70]       7.90 [5.10,11.70]              4  0.333   Kruskal-Wallis\n",
       "creatinine (median [IQR])         76.00 [55.50,132.00]    80.50 [58.50,147.25]           3  0.413   Kruskal-Wallis\n",
       "bilirubin (median [IQR])          12.00 [8.00,22.75]      21.00 [11.00,53.00]           29  0.001   Kruskal-Wallis\n",
       "ast (median [IQR])                37.00 [20.00,68.75]     49.00 [30.00,117.00]          27  0.006   Kruskal-Wallis\n",
       "alt (median [IQR])                31.00 [19.00,59.50]     36.00 [19.00,76.00]           28  0.146   Kruskal-Wallis\n",
       "abg_ph (median [IQR])             7.41 [7.34,7.49]        7.38 [7.23,7.47]              21  0.041   Kruskal-Wallis\n",
       "abg_pco2 (median [IQR])           33.90 [27.22,39.50]     31.40 [26.58,43.20]           16  0.742   Kruskal-Wallis\n",
       "abg_po2 (median [IQR])            85.75 [65.68,114.92]    81.80 [66.47,135.30]          16  0.928   Kruskal-Wallis\n",
       "abg_bicarbonate (median [IQR])    21.15 [16.67,25.00]     18.20 [14.47,22.10]           16  0.006   Kruskal-Wallis\n",
       "abg_baseexcess (median [IQR])     -3.10 [-7.00,0.93]      -4.95 [-11.15,-1.12]          16  0.002   Kruskal-Wallis\n",
       "abg_spo2 (median [IQR])           96.50 [92.90,98.50]     96.40 [92.62,98.82]           16  0.713   Kruskal-Wallis\n",
       "abg_lactate (median [IQR])        2.15 [1.17,3.80]        3.20 [1.30,7.25]              29  0.006   Kruskal-Wallis\n",
       "gender (n (%))                                                                           0  0.962   Chi-squared\n",
       "Female                            73 (42.44)              38 (41.30)\n",
       "Male                              99 (57.56)              54 (58.70)\n",
       "p_blood_culture_1 (n (%))                                                                0  0.039   Chi-squared\n",
       "0.0                               144 (83.72)             86 (93.48)\n",
       "1.0                               28 (16.28)              6 (6.52)\n",
       "rbc_1 (n (%))                                                                            0  0.575   Chi-squared\n",
       "0.0                               99 (57.56)              57 (61.96)\n",
       "1.0                               73 (42.44)              35 (38.04)\n",
       "platelet_1 (n (%))                                                                       0  0.134   Chi-squared\n",
       "0.0                               120 (69.77)             55 (59.78)\n",
       "1.0                               52 (30.23)              37 (40.22)\n",
       "ventilation_1 (n (%))                                                                    0  0.000   Chi-squared\n",
       "0                                 71 (41.28)              8 (8.70)\n",
       "1                                 101 (58.72)             84 (91.30)\n",
       "vasopressor_1 (n (%))                                                                    0  0.000   Chi-squared\n",
       "0                                 107 (62.21)             22 (23.91)\n",
       "1                                 65 (37.79)              70 (76.09)\n",
       "rrt (n (%))                                                                              2  0.132   Chi-squared\n",
       "0.0                               152 (88.89)             74 (81.32)\n",
       "1.0                               19 (11.11)              17 (18.68)\n",
       "hypertension (n (%))                                                                     0  0.297   Chi-squared\n",
       "0                                 126 (73.26)             61 (66.30)\n",
       "1                                 46 (26.74)              31 (33.70)\n",
       "congestive_heart_failure (n (%))                                                         0  0.551   Fisher exact\n",
       "0                                 163 (94.77)             89 (96.74)\n",
       "1                                 9 (5.23)                3 (3.26)\n",
       "cardiac_arrhythmias (n (%))                                                              0  0.168   Fisher exact\n",
       "0                                 164 (95.35)             91 (98.91)\n",
       "1                                 8 (4.65)                1 (1.09)\n",
       "chronic_pulmonary (n (%))                                                                0  0.544   Fisher exact\n",
       "0                                 170 (98.84)             92 (100.00)\n",
       "1                                 2 (1.16)                0 (0.00)\n",
       "depression (n (%))                                                                       0  1.000   Fisher exact\n",
       "0                                 171 (99.42)             92 (100.00)\n",
       "1                                 1 (0.58)                0 (0.00)\n",
       "diabetes_uncomplicated (n (%))                                                           0  0.572   Chi-squared\n",
       "0                                 141 (81.98)             72 (78.26)\n",
       "1                                 31 (18.02)              20 (21.74)\n",
       "hypothyroidism (n (%))                                                                   0  1.000   Fisher exact\n",
       "0                                 166 (96.51)             89 (96.74)\n",
       "1                                 6 (3.49)                3 (3.26)\n",
       "renal_failure (n (%))                                                                    0  1.000   Fisher exact\n",
       "0                                 167 (97.09)             90 (97.83)\n",
       "1                                 5 (2.91)                2 (2.17)\n",
       "rheumatoid_arthritis (n (%))                                                             0  0.554   Fisher exact\n",
       "0                                 169 (98.26)             92 (100.00)\n",
       "1                                 3 (1.74)                0 (0.00)\n",
       "liver_disease (n (%))                                                                    0  1.000   Fisher exact\n",
       "0                                 168 (97.67)             90 (97.83)\n",
       "1                                 4 (2.33)                2 (2.17)\n",
       "peptic_ulcer (n (%))                                                                     0  1.000   Fisher exact\n",
       "0                                 170 (98.84)             91 (98.91)\n",
       "1                                 2 (1.16)                1 (1.09)\n",
       "leukemia (n (%))                                                                         0  0.908   Chi-squared\n",
       "0                                 103 (59.88)             55 (59.78)\n",
       "1                                 69 (40.12)              37 (40.22)\n",
       "lymphoma (n (%))                                                                         0  0.634   Chi-squared\n",
       "0                                 102 (59.30)             51 (55.43)\n",
       "1                                 70 (40.70)              41 (44.57)\n",
       "myeloma (n (%))                                                                          0  0.698   Chi-squared\n",
       "0                                 153 (88.95)             84 (91.30)\n",
       "1                                 19 (11.05)              8 (8.70)\n",
       "myelodysplastic_syndrome (n (%))                                                         0  0.819   Chi-squared\n",
       "0                                 158 (91.86)             86 (93.48)\n",
       "1                                 14 (8.14)               6 (6.52)"
      ]
     },
     "execution_count": 10,
     "metadata": {},
     "output_type": "execute_result"
    }
   ],
   "source": [
    "overall_table"
   ]
  },
  {
   "cell_type": "code",
   "execution_count": 11,
   "metadata": {},
   "outputs": [],
   "source": [
    "overall_table.to_csv('tableone_result_NUH.csv')"
   ]
  },
  {
   "cell_type": "code",
   "execution_count": null,
   "metadata": {},
   "outputs": [],
   "source": []
  },
  {
   "cell_type": "code",
   "execution_count": null,
   "metadata": {},
   "outputs": [],
   "source": []
  },
  {
   "cell_type": "code",
   "execution_count": null,
   "metadata": {},
   "outputs": [],
   "source": []
  }
 ],
 "metadata": {
  "kernelspec": {
   "display_name": "Personal Py3",
   "language": "python",
   "name": "py3user"
  },
  "language_info": {
   "codemirror_mode": {
    "name": "ipython",
    "version": 3
   },
   "file_extension": ".py",
   "mimetype": "text/x-python",
   "name": "python",
   "nbconvert_exporter": "python",
   "pygments_lexer": "ipython3",
   "version": "3.5.2"
  }
 },
 "nbformat": 4,
 "nbformat_minor": 2
}
