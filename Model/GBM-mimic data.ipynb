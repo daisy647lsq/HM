{
 "cells": [
  {
   "cell_type": "code",
   "execution_count": 2,
   "metadata": {},
   "outputs": [
    {
     "name": "stderr",
     "output_type": "stream",
     "text": [
      "/home/ephlius/.virtualenvs/3/lib/python3.5/site-packages/sklearn/cross_validation.py:41: DeprecationWarning: This module was deprecated in version 0.18 in favor of the model_selection module into which all the refactored classes and functions are moved. Also note that the interface of the new CV iterators are different from that of this module. This module will be removed in 0.20.\n",
      "  \"This module will be removed in 0.20.\", DeprecationWarning)\n"
     ]
    }
   ],
   "source": [
    "import numpy as np\n",
    "import pandas as pd\n",
    "from sklearn.model_selection import KFold\n",
    "import matplotlib.pyplot as plt\n",
    "\n",
    "from sklearn import ensemble\n",
    "from sklearn.ensemble import GradientBoostingClassifier\n",
    "import xgboost as xgb\n",
    "from xgboost import XGBClassifier\n",
    "\n",
    "from sklearn.metrics import accuracy_score\n",
    "from sklearn.metrics import roc_curve, auc\n",
    "from sklearn.model_selection import train_test_split\n",
    "from sklearn.model_selection import ShuffleSplit\n",
    "import operator\n",
    "import collections\n",
    "from sklearn.model_selection import GridSearchCV"
   ]
  },
  {
   "cell_type": "code",
   "execution_count": 3,
   "metadata": {},
   "outputs": [],
   "source": [
    "# #############################################################################\n",
    "# Load data\n",
    "\n",
    "data = pd.read_csv(\"HM_cohort_wth_LabTest.csv\", index_col=0)\n",
    "data.loc[:,'leukemia'] = pd.Series(1, index=data.index[data['d_type']=='leukemia'])\n",
    "data.loc[:,'lymphoma'] = pd.Series(1, index=data.index[data['d_type']=='lymphoma'])\n",
    "data.loc[:,'myeloma'] = pd.Series(1, index=data.index[data['d_type']=='myeloma'])\n",
    "data.loc[:,'myelodysplastic_syndrome'] = pd.Series(1, index=data.index[data['d_type']=='myelodysplastic_syndrome'])\n",
    "data[['p_blood_culture_1', 'rbc_1', 'platelet_1', 'vasopressor_1', \n",
    "      'ventilation_1','leukemia','lymphoma','myelodysplastic_syndrome',\n",
    "      'myeloma']] = data[['p_blood_culture_1', 'rbc_1', 'platelet_1', 'vasopressor_1', 'ventilation_1',\n",
    "                          'leukemia','lymphoma','myelodysplastic_syndrome','myeloma']].fillna(0)    \n",
    "\n",
    "df = pd.DataFrame(data, columns =['age', 'sofa','wbc','hemoglobin','platelet','sodium','potassium','creatinine',\n",
    "                                  'bilirubin',\n",
    "                                  'ast',\n",
    "                                  'alt',\n",
    "                                  'abg_ph', 'abg_pco2', \n",
    "                                  #'abg_po2', \n",
    "                                  'abg_bicarbonate','abg_baseexcess', \n",
    "                                  #'abg_spo2', \n",
    "                                  'abg_lactate',\n",
    "                                  'gender',\n",
    "                                  'p_blood_culture_1',\n",
    "                                  'rbc_1', 'platelet_1','ventilation_1','vasopressor_1', 'rrt',\n",
    "                                  'hypertension', 'congestive_heart_failure', 'cardiac_arrhythmias', 'chronic_pulmonary',\n",
    "                                  'depression', 'diabetes_uncomplicated', 'hypothyroidism',\n",
    "                                  'renal_failure', 'rheumatoid_arthritis', 'liver_disease','peptic_ulcer',\n",
    "                                  #'leukemia','lymphoma','myeloma','myelodysplastic_syndrome',\n",
    "           \n",
    "                                  'mort_icu',\n",
    "                                  'mort_hosp'\n",
    "                                  \n",
    "                                ])\n",
    "\n",
    "\n",
    "df['gender'] = df['gender'].str.replace('M','1')\n",
    "df['gender'] = df['gender'].str.replace('F','0')\n",
    "#concert the unit for creatinine from mg/dl to umol/l\n",
    "df['creatinine']=df['creatinine']*88.42\n",
    "#df=df.dropna(axis = 0, how='any')\n",
    "#df=df.fillna(df.median())\n",
    "\n",
    "\n",
    "mimic_X = pd.DataFrame(df,columns =[\n",
    "                              'age', \n",
    "                              'sofa','wbc','hemoglobin','platelet','sodium','potassium','creatinine',\n",
    "                              'bilirubin',\n",
    "                              'ast',\n",
    "                              'alt',\n",
    "                              'abg_ph', 'abg_pco2', \n",
    "                              #'abg_po2', \n",
    "                              'abg_bicarbonate','abg_baseexcess', \n",
    "                              #'abg_spo2', \n",
    "                              'abg_lactate',\n",
    "                              'gender',\n",
    "                              'p_blood_culture_1', \n",
    "                              'rbc_1', \n",
    "                              'platelet_1','ventilation_1','vasopressor_1', 'rrt',\n",
    "                              'hypertension', 'congestive_heart_failure', 'cardiac_arrhythmias', 'chronic_pulmonary',\n",
    "                              'depression', 'diabetes_uncomplicated', 'hypothyroidism',\n",
    "                              'renal_failure', 'rheumatoid_arthritis', 'liver_disease','peptic_ulcer',\n",
    "                              #'leukemia','lymphoma','myeloma','myelodysplastic_syndrome'\n",
    "                                 ])\n",
    "\n",
    "mimic_y = pd.DataFrame(df,columns =['mort_icu'])\n",
    "#mimic_y = pd.DataFrame(df,columns =['mort_hosp'])\n",
    "n_samples, n_features = mimic_X.shape\n",
    "\n",
    "mimic_X = np.array(mimic_X)\n",
    "mimic_y = np.ravel(mimic_y)"
   ]
  },
  {
   "cell_type": "code",
   "execution_count": 144,
   "metadata": {},
   "outputs": [
    {
     "name": "stdout",
     "output_type": "stream",
     "text": [
      "AUC: 0.732 (+/- 0.042)\n",
      "AUC: 0.690 - 0.774\n",
      "AUC: 0.811\n"
     ]
    }
   ],
   "source": [
    "score =[]\n",
    "# #############################################################################\n",
    "# Fit classification model\n",
    "# use XGboost\n",
    "\n",
    "params = {'objective':'binary:logistic', \n",
    "          \n",
    "          \n",
    "          'gamma':0,\n",
    "          'learning_rate':0.1,\n",
    "          'min_child_weight':4, 'max_depth':3,\n",
    "          'n_estimators':430,'nthread':4,\n",
    "          'reg_lambda':1,'reg_alpha':0.01,\n",
    "          'scale_pos_weight':1, 'seed':27, 'subsample':0.9,'colsample_bytree':0.7,'scale_pos_weight':1\n",
    "          }\n",
    "\n",
    "kf = KFold(n_splits=10)\n",
    "for train_index, test_index in kf.split(mimic_X):\n",
    "    X_train, X_test = mimic_X[train_index], mimic_X[test_index]\n",
    "    y_train, y_test = mimic_y[train_index], mimic_y[test_index]\n",
    "    classifier = xgb.XGBClassifier(**params)\n",
    "    classifier.fit(X_train, y_train)\n",
    "    predictions = classifier.predict(X_test)\n",
    "    fpr, tpr, _ = roc_curve(y_test, predictions)\n",
    "    roc_auc = auc(fpr, tpr)\n",
    "    score.append(roc_auc.ravel().copy())\n",
    "\n",
    "score=np.array(score)\n",
    "print(\"AUC: %0.3f (+/- %0.3f)\" % (score.mean(), score.std()))\n",
    "print(\"AUC: %0.3f - %0.3f\" % ((score.mean()-score.std()),score.mean()+score.std()))\n",
    "# split data into train and test sets\n",
    "\n",
    "test_size = 0.3\n",
    "\n",
    "X_train_final, X_test_final, y_train_final, y_test_final = train_test_split(mimic_X, mimic_y, \n",
    "                                                                            test_size=test_size, \n",
    "                                                                            random_state=80, shuffle=True)\n",
    "# fit model no training data\n",
    "model = xgb.XGBClassifier(**params)\n",
    "model.fit(X_train_final, y_train_final)\n",
    "predictions = model.predict(X_test_final)\n",
    "#ROC curve\n",
    "#fpr, tpr, thresholds = roc_curve(y_test_final, predictions)\n",
    "fpr, tpr, _ = roc_curve(y_test_final, predictions)\n",
    "roc_auc = auc(fpr, tpr)\n",
    "print(\"AUC: %0.3f\" %roc_auc)"
   ]
  },
  {
   "cell_type": "code",
   "execution_count": null,
   "metadata": {},
   "outputs": [],
   "source": []
  },
  {
   "cell_type": "code",
   "execution_count": 77,
   "metadata": {},
   "outputs": [
    {
     "data": {
      "image/png": "[encoded data removed]",
      "text/plain": [
       "<matplotlib.figure.Figure at 0x7f5528e36358>"
      ]
     },
     "metadata": {},
     "output_type": "display_data"
    }
   ],
   "source": [
    "# extract feature importance\n",
    "def get_xgb_imp(xgb, feat_names):\n",
    "    from numpy import array\n",
    "    imp_vals = xgb.booster().get_fscore()\n",
    "    imp_dict = {feat_names[i]:float(imp_vals.get('f'+str(i),0.)) for i in range(len(feat_names))}\n",
    "    total = array(imp_dict.values()).sum()\n",
    "    return {k:v for k,v in imp_dict.items()}\n",
    "\n",
    "features_names = ['age', \n",
    "                  'sofa','wbc','hemoglobin','platelet','sodium','potassium','creatinine',\n",
    "                  'bilirubin',\n",
    "                  'ast', \n",
    "                  'alt',\n",
    "                  'abg_ph', 'abg_pco2', \n",
    "                  #'abg_po2', \n",
    "                  'abg_bicarbonate','abg_baseexcess',\n",
    "                  #'abg_spo2', \n",
    "                  'abg_lactate',\n",
    "                  'gender',\n",
    "                  'p_blood_culture_1',\n",
    "                  'rbc_1',\n",
    "                  'platelet_1','ventilation_1','vasopressor_1', 'rrt']\n",
    "d=get_xgb_imp(model,features_names)\n",
    "sorted_d= collections.OrderedDict(sorted(d.items(), key=operator.itemgetter(1)))\n",
    "#plot features importance\n",
    "plt.figure(figsize=(10, 6))\n",
    "plt.barh(range(len(sorted_d)),sorted_d.values(),align='center')\n",
    "plt.yticks(range(len(sorted_d)),list(sorted_d.keys()))\n",
    "plt.show()"
   ]
  },
  {
   "cell_type": "code",
   "execution_count": 145,
   "metadata": {},
   "outputs": [
    {
     "data": {
      "text/plain": [
       "0.73198700512800108"
      ]
     },
     "execution_count": 145,
     "metadata": {},
     "output_type": "execute_result"
    }
   ],
   "source": [
    "auc_score=[]\n",
    "\n",
    "\n",
    "\n",
    "for i in range(1,2):\n",
    "    params = {'objective':'binary:logistic', \n",
    "          \n",
    "          \n",
    "          'gamma':0,\n",
    "          'learning_rate':0.1,\n",
    "          'min_child_weight':4, 'max_depth':3,\n",
    "          'n_estimators':430,'nthread':4,\n",
    "          'reg_lambda':1,'reg_alpha':0.01,\n",
    "          'scale_pos_weight':1, 'seed':27, 'subsample':0.9,'colsample_bytree':0.7,'scale_pos_weight':1\n",
    "          }\n",
    "    score=[]\n",
    "    \n",
    "    kf = KFold(n_splits=10)\n",
    "    for train_index, test_index in kf.split(mimic_X):\n",
    "        X_train, X_test = mimic_X[train_index], mimic_X[test_index]\n",
    "        y_train, y_test = mimic_y[train_index], mimic_y[test_index]\n",
    "        classifier = xgb.XGBClassifier(**params)\n",
    "        classifier.fit(X_train, y_train)\n",
    "        predictions = classifier.predict(X_test)\n",
    "        fpr, tpr, _ = roc_curve(y_test, predictions)\n",
    "        score.append(auc(fpr, tpr).ravel().copy())\n",
    "    \n",
    "    score=np.array(score)\n",
    "    auc_score.append(score.mean()-score1.std())\n",
    "    \n",
    "        \n",
    "\n",
    "\n",
    "\n",
    "\n",
    "\n",
    "np.mean(auc_score)\n",
    "#AUC: 0.732 (+/- 0.042)\n",
    "#AUC: 0.690 - 0.774"
   ]
  },
  {
   "cell_type": "code",
   "execution_count": 6,
   "metadata": {},
   "outputs": [
    {
     "data": {
      "text/plain": [
       "0.69734081744583942"
      ]
     },
     "execution_count": 6,
     "metadata": {},
     "output_type": "execute_result"
    }
   ],
   "source": [
    "auc_score=[]\n",
    "\n",
    "\n",
    "\n",
    "for i in range(1,100):\n",
    "    score=[]\n",
    "    params = {'objective':'binary:logistic', \n",
    "          \n",
    "          \n",
    "          'gamma':0,\n",
    "          'learning_rate':0.1,\n",
    "          'min_child_weight':4, 'max_depth':3,\n",
    "          'n_estimators':430,'nthread':4,\n",
    "          'reg_lambda':1,'reg_alpha':0.01,\n",
    "          'scale_pos_weight':1, 'seed':27, 'subsample':0.9,'colsample_bytree':0.7,'scale_pos_weight':1\n",
    "          }\n",
    "    \n",
    "    X_train_final, X_test_final, y_train_final, y_test_final = train_test_split(mimic_X, mimic_y, \n",
    "                                                                            test_size=0.3, \n",
    "                                                                            shuffle=True)\n",
    "    # fit model no training data\n",
    "    model = xgb.XGBClassifier(**params)\n",
    "    model.fit(X_train_final, y_train_final)\n",
    "    predictions = model.predict(X_test_final)\n",
    "    #ROC curve\n",
    "    fpr, tpr, _ = roc_curve(y_test_final, predictions)\n",
    "    score.append(auc(fpr, tpr).ravel().copy())\n",
    "    score=np.array(score)\n",
    "    auc_score.append(score.mean())\n",
    "        \n",
    "\n",
    "\n",
    "\n",
    "\n",
    "\n",
    "np.mean(auc_score)"
   ]
  },
  {
   "cell_type": "code",
   "execution_count": 7,
   "metadata": {},
   "outputs": [
    {
     "data": {
      "text/plain": [
       "0.040570297372394454"
      ]
     },
     "execution_count": 7,
     "metadata": {},
     "output_type": "execute_result"
    }
   ],
   "source": [
    "np.std(auc_score)"
   ]
  },
  {
   "cell_type": "code",
   "execution_count": null,
   "metadata": {},
   "outputs": [],
   "source": []
  }
 ],
 "metadata": {
  "kernelspec": {
   "display_name": "Personal Py3",
   "language": "python",
   "name": "py3user"
  },
  "language_info": {
   "codemirror_mode": {
    "name": "ipython",
    "version": 3
   },
   "file_extension": ".py",
   "mimetype": "text/x-python",
   "name": "python",
   "nbconvert_exporter": "python",
   "pygments_lexer": "ipython3",
   "version": "3.5.2"
  }
 },
 "nbformat": 4,
 "nbformat_minor": 2
}
