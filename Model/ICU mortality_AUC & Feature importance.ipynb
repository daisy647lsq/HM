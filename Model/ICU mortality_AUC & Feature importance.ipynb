{
 "cells": [
  {
   "cell_type": "code",
   "execution_count": 46,
   "metadata": {},
   "outputs": [],
   "source": [
    "import pandas as pd\n",
    "import numpy as np\n",
    "import matplotlib.pyplot as plt\n",
    "from itertools import cycle\n",
    "from tabulate import tabulate\n",
    "\n",
    "from sklearn import metrics\n",
    "from sklearn import linear_model\n",
    "from sklearn import datasets\n",
    "from sklearn.svm import l1_min_c\n",
    "from sklearn.metrics import roc_curve, auc\n",
    "from sklearn.model_selection import train_test_split\n",
    "from sklearn.preprocessing import label_binarize\n",
    "from sklearn.datasets import make_classification\n",
    "from sklearn.ensemble import ExtraTreesClassifier\n",
    "from scipy import interp\n",
    "from sklearn.model_selection import KFold\n",
    "\n",
    "import plotly.plotly as py\n",
    "import plotly.figure_factory as ff"
   ]
  },
  {
   "cell_type": "code",
   "execution_count": 51,
   "metadata": {
    "scrolled": true
   },
   "outputs": [],
   "source": [
    "data = pd.read_csv(\"HM_cohort_wth_LabTest.csv\", index_col=0)\n",
    "data[['p_blood_culture_1', 'rbc_1', 'platelet_1'\n",
    "      , 'vasopressor_1', 'ventilation_1']] = data[['p_blood_culture_1', 'rbc_1', 'platelet_1'\n",
    "                                                   , 'vasopressor_1', 'ventilation_1']].fillna(0)\n",
    "\n",
    "\n",
    "df = pd.DataFrame(data, columns =['gender','p_blood_culture_1', 'rbc_1', 'platelet_1',\n",
    "                                 'ventilation_1','vasopressor_1', 'rrt',\n",
    "                                 'age', \n",
    "                                 'sofa',\n",
    "                                 'wbc','hemoglobin','platelet','sodium','potassium','creatinine',\n",
    "                                 'heart_rate', 'respiration', 'temperature',\n",
    "                                 'mort_icu'\n",
    "                                ])\n",
    "\n",
    "df=df.dropna(axis = 0, how='any')\n",
    "df['gender'] = df['gender'].str.replace('M','1')\n",
    "df['gender'] = df['gender'].str.replace('F','0')\n",
    "X = pd.DataFrame(df,columns =['gender','p_blood_culture_1', 'rbc_1', 'platelet_1',\n",
    "                                 'ventilation_1','vasopressor_1', 'rrt',\n",
    "                                 'age', \n",
    "                                 'sofa',\n",
    "                                 'wbc','hemoglobin','platelet','sodium','potassium','creatinine',\n",
    "                                 'heart_rate', 'respiration', 'temperature',\n",
    "                                 ])\n",
    "\n",
    "y = pd.DataFrame(df,columns =['mort_icu'])"
   ]
  },
  {
   "cell_type": "code",
   "execution_count": 52,
   "metadata": {},
   "outputs": [
    {
     "name": "stdout",
     "output_type": "stream",
     "text": [
      "Accuracy: 0.856 (+/- 0.068)\n",
      "Model: [[ -2.59120966e-01  -3.36146217e-01   0.00000000e+00   4.01003970e-02\n",
      "    1.42515531e+00   1.12565469e+00   1.21880077e-01   3.62812787e-03\n",
      "    2.22298931e-01   6.72430519e-03   0.00000000e+00   9.24768647e-04\n",
      "   -4.11181510e-02   2.21462412e-01  -3.04336123e-01   6.92001812e-03\n",
      "    2.87390260e-03  -8.19149802e-04]]\n"
     ]
    }
   ],
   "source": [
    "n_samples, n_features = X.shape\n",
    "X = np.array(X)\n",
    "y = np.ravel(y)\n",
    "\n",
    "\n",
    "\n",
    "# shuffle and split training and test sets\n",
    "#X_train, X_test, y_train, y_test = train_test_split(X, y, test_size=.1)\n",
    "classifier = linear_model.LogisticRegression(C=1.0, penalty='l1', tol=1e-6)\n",
    "coefs_=[]\n",
    "score =[]\n",
    "y_tests = []\n",
    "kf = KFold(n_splits=10)\n",
    "for train_index, test_index in kf.split(X):\n",
    "    X_train, X_test = X[train_index], X[test_index]\n",
    "    y_train, y_test = y[train_index], y[test_index]\n",
    "    classifier.fit(X_train, y_train)\n",
    "    score.append(classifier.score(X_test, y_test).ravel().copy())\n",
    "    #coefs_.append(classifier.coef_.ravel().copy())\n",
    "\n",
    "score=np.array(score)\n",
    "print(\"Accuracy: %0.3f (+/- %0.3f)\" % (score.mean(), score.std() * 2))\n",
    "\n",
    "#Final Module\n",
    "classifier.fit(X, y)\n",
    "y_score = classifier.decision_function(X)\n",
    "beta = np.array(classifier.coef_)\n",
    "print(\"Model:\", beta)\n",
    "\n",
    "# odd ratio\n",
    "odd_r = np.exp(beta).transpose().ravel()\n"
   ]
  },
  {
   "cell_type": "code",
   "execution_count": 53,
   "metadata": {},
   "outputs": [
    {
     "data": {
      "image/png": "[encoded data removed]",
      "text/plain": [
       "<matplotlib.figure.Figure at 0x7f0c558ac6d8>"
      ]
     },
     "metadata": {},
     "output_type": "display_data"
    }
   ],
   "source": [
    "# Compute ROC curve and ROC area for each class\n",
    "fpr = dict()\n",
    "tpr = dict()\n",
    "roc_auc = dict()\n",
    "#for i in range(n_classes):\n",
    "fpr, tpr, thresholds = metrics.roc_curve(y, y_score)\n",
    "\n",
    "roc_auc = auc(fpr, tpr)\n",
    "plt.figure(figsize=(13,6))\n",
    "plt.plot(fpr, tpr, color='darkorange', label='ROC curve (area = %0.2f)' % roc_auc)\n",
    "plt.plot([0, 1], [0, 1], color='navy', linestyle='--')\n",
    "plt.xlim([0.0, 1.0])\n",
    "plt.ylim([0.0, 1.05])\n",
    "plt.xlabel('False Positive Rate')\n",
    "plt.ylabel('True Positive Rate')\n",
    "plt.title('Receiver operating characteristic for ICU mortality')\n",
    "plt.legend(loc=\"lower right\")\n",
    "plt.show()"
   ]
  },
  {
   "cell_type": "code",
   "execution_count": 57,
   "metadata": {},
   "outputs": [
    {
     "name": "stdout",
     "output_type": "stream",
     "text": [
      "-----------------  ------------------  ------------------\n",
      "Features           Odd Ratio           P-value\n",
      "Male sex           0.7717296641883682  0.127\n",
      "p_blood_culture_1  0.7145186234008161  0.138\n",
      "rbc_1              1.0                 0.0\n",
      "platelet_1         1.0409152737363823  0.0\n",
      "ventilation_1      4.158503659245735   0.0\n",
      "vasopressor_1      3.082234102371345   0.0\n",
      "rrt                1.1296186269673165  0.0\n",
      "age                1.0036347174938838  0.5579999999999999\n",
      "sofa               1.248944669855609   0.0\n",
      "wbc                1.0067469640946052  0.075\n",
      "hemoglobin         1.0                 0.6779999999999999\n",
      "platelet           1.0009251963771133  0.005\n",
      "sodium             0.9597157319028081  0.25\n",
      "potassium          1.2479003409827893  0.006\n",
      "creatinine         0.7376128959949447  0.019\n",
      "heart_rate         1.0069440167741754  0.001\n",
      "respiration        1.0028780362187648  0.001\n",
      "temperature        0.9991811856093052  0.647\n",
      "-----------------  ------------------  ------------------\n"
     ]
    }
   ],
   "source": [
    "columns=['Male sex','p_blood_culture_1', 'rbc_1', 'platelet_1','ventilation_1','vasopressor_1', 'rrt',\n",
    "                  'age','sofa','wbc','hemoglobin','platelet','sodium','potassium','creatinine',\n",
    "                  'heart_rate', 'respiration', 'temperature']\n",
    "features = np.asarray(columns).transpose()\n",
    "\n",
    "#select p_values for the 17 features\n",
    "tableone=pd.read_csv('tableone_result.csv', index_col=0)\n",
    "p_value=tableone['0'][np.r_[18,21,24,27,30,33,36,0:8,11,12,16]]\n",
    "\n",
    "data_matrix = np.column_stack((features,odd_r,p_value))\n",
    "title = np.asarray(['Features','Odd Ratio','P-value'])\n",
    "table = np.vstack((title,data_matrix))\n",
    "print (tabulate(table))"
   ]
  },
  {
   "cell_type": "code",
   "execution_count": null,
   "metadata": {},
   "outputs": [],
   "source": []
  }
 ],
 "metadata": {
  "kernelspec": {
   "display_name": "Personal Py3",
   "language": "python",
   "name": "py3user"
  },
  "language_info": {
   "codemirror_mode": {
    "name": "ipython",
    "version": 3
   },
   "file_extension": ".py",
   "mimetype": "text/x-python",
   "name": "python",
   "nbconvert_exporter": "python",
   "pygments_lexer": "ipython3",
   "version": "3.5.2"
  }
 },
 "nbformat": 4,
 "nbformat_minor": 2
}
