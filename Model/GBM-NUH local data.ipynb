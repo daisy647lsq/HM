{
 "cells": [
  {
   "cell_type": "code",
   "execution_count": 1,
   "metadata": {},
   "outputs": [
    {
     "name": "stderr",
     "output_type": "stream",
     "text": [
      "/home/ephlius/.virtualenvs/3/lib/python3.5/site-packages/sklearn/cross_validation.py:41: DeprecationWarning: This module was deprecated in version 0.18 in favor of the model_selection module into which all the refactored classes and functions are moved. Also note that the interface of the new CV iterators are different from that of this module. This module will be removed in 0.20.\n",
      "  \"This module will be removed in 0.20.\", DeprecationWarning)\n"
     ]
    }
   ],
   "source": [
    "import numpy as np\n",
    "import pandas as pd\n",
    "from sklearn.model_selection import KFold\n",
    "import matplotlib.pyplot as plt\n",
    "\n",
    "from sklearn import ensemble\n",
    "from sklearn.ensemble import GradientBoostingClassifier\n",
    "import xgboost as xgb\n",
    "from xgboost import XGBClassifier\n",
    "\n",
    "from sklearn.metrics import accuracy_score\n",
    "from sklearn.metrics import roc_curve, auc\n",
    "from sklearn.model_selection import train_test_split\n",
    "from sklearn.model_selection import ShuffleSplit\n",
    "import operator\n",
    "import collections\n",
    "from sklearn.model_selection import GridSearchCV\n",
    "from sklearn.utils import shuffle"
   ]
  },
  {
   "cell_type": "code",
   "execution_count": 2,
   "metadata": {},
   "outputs": [
    {
     "ename": "KeyError",
     "evalue": "'bilirubin'",
     "output_type": "error",
     "traceback": [
      "\u001b[0;31m---------------------------------------------------------------------------\u001b[0m",
      "\u001b[0;31mKeyError\u001b[0m                                  Traceback (most recent call last)",
      "\u001b[0;32m~/.virtualenvs/3/lib/python3.5/site-packages/pandas/core/indexes/base.py\u001b[0m in \u001b[0;36mget_loc\u001b[0;34m(self, key, method, tolerance)\u001b[0m\n\u001b[1;32m   2441\u001b[0m             \u001b[0;32mtry\u001b[0m\u001b[0;34m:\u001b[0m\u001b[0;34m\u001b[0m\u001b[0m\n\u001b[0;32m-> 2442\u001b[0;31m                 \u001b[0;32mreturn\u001b[0m \u001b[0mself\u001b[0m\u001b[0;34m.\u001b[0m\u001b[0m_engine\u001b[0m\u001b[0;34m.\u001b[0m\u001b[0mget_loc\u001b[0m\u001b[0;34m(\u001b[0m\u001b[0mkey\u001b[0m\u001b[0;34m)\u001b[0m\u001b[0;34m\u001b[0m\u001b[0m\n\u001b[0m\u001b[1;32m   2443\u001b[0m             \u001b[0;32mexcept\u001b[0m \u001b[0mKeyError\u001b[0m\u001b[0;34m:\u001b[0m\u001b[0;34m\u001b[0m\u001b[0m\n",
      "\u001b[0;32mpandas/_libs/index.pyx\u001b[0m in \u001b[0;36mpandas._libs.index.IndexEngine.get_loc (pandas/_libs/index.c:5280)\u001b[0;34m()\u001b[0m\n",
      "\u001b[0;32mpandas/_libs/index.pyx\u001b[0m in \u001b[0;36mpandas._libs.index.IndexEngine.get_loc (pandas/_libs/index.c:5126)\u001b[0;34m()\u001b[0m\n",
      "\u001b[0;32mpandas/_libs/hashtable_class_helper.pxi\u001b[0m in \u001b[0;36mpandas._libs.hashtable.PyObjectHashTable.get_item (pandas/_libs/hashtable.c:20523)\u001b[0;34m()\u001b[0m\n",
      "\u001b[0;32mpandas/_libs/hashtable_class_helper.pxi\u001b[0m in \u001b[0;36mpandas._libs.hashtable.PyObjectHashTable.get_item (pandas/_libs/hashtable.c:20477)\u001b[0;34m()\u001b[0m\n",
      "\u001b[0;31mKeyError\u001b[0m: 'bilirubin'",
      "\nDuring handling of the above exception, another exception occurred:\n",
      "\u001b[0;31mKeyError\u001b[0m                                  Traceback (most recent call last)",
      "\u001b[0;32m<ipython-input-2-51bd36bfedb3>\u001b[0m in \u001b[0;36m<module>\u001b[0;34m()\u001b[0m\n\u001b[1;32m     42\u001b[0m \u001b[0mdf\u001b[0m\u001b[0;34m[\u001b[0m\u001b[0;34m'creatinine'\u001b[0m\u001b[0;34m]\u001b[0m\u001b[0;34m=\u001b[0m\u001b[0mdf\u001b[0m\u001b[0;34m[\u001b[0m\u001b[0;34m'creatinine'\u001b[0m\u001b[0;34m]\u001b[0m\u001b[0;34m*\u001b[0m\u001b[0;36m88.42\u001b[0m\u001b[0;34m\u001b[0m\u001b[0m\n\u001b[1;32m     43\u001b[0m \u001b[0;31m#convert the unit for bilirubin from mg/dl to umol/l\u001b[0m\u001b[0;34m\u001b[0m\u001b[0;34m\u001b[0m\u001b[0m\n\u001b[0;32m---> 44\u001b[0;31m \u001b[0mdf\u001b[0m\u001b[0;34m[\u001b[0m\u001b[0;34m'bilirubin'\u001b[0m\u001b[0;34m]\u001b[0m\u001b[0;34m=\u001b[0m\u001b[0mdf\u001b[0m\u001b[0;34m[\u001b[0m\u001b[0;34m'bilirubin'\u001b[0m\u001b[0;34m]\u001b[0m\u001b[0;34m*\u001b[0m\u001b[0;36m17.1\u001b[0m\u001b[0;34m\u001b[0m\u001b[0m\n\u001b[0m\u001b[1;32m     45\u001b[0m \u001b[0;31m#convert the unit for BUN (urea) from mg/dL to mmol/L\u001b[0m\u001b[0;34m\u001b[0m\u001b[0;34m\u001b[0m\u001b[0m\n\u001b[1;32m     46\u001b[0m \u001b[0mdf\u001b[0m\u001b[0;34m[\u001b[0m\u001b[0;34m'urea'\u001b[0m\u001b[0;34m]\u001b[0m\u001b[0;34m=\u001b[0m\u001b[0mdf\u001b[0m\u001b[0;34m[\u001b[0m\u001b[0;34m'urea'\u001b[0m\u001b[0;34m]\u001b[0m\u001b[0;34m**\u001b[0m \u001b[0;36m0.3571\u001b[0m\u001b[0;34m\u001b[0m\u001b[0m\n",
      "\u001b[0;32m~/.virtualenvs/3/lib/python3.5/site-packages/pandas/core/frame.py\u001b[0m in \u001b[0;36m__getitem__\u001b[0;34m(self, key)\u001b[0m\n\u001b[1;32m   1962\u001b[0m             \u001b[0;32mreturn\u001b[0m \u001b[0mself\u001b[0m\u001b[0;34m.\u001b[0m\u001b[0m_getitem_multilevel\u001b[0m\u001b[0;34m(\u001b[0m\u001b[0mkey\u001b[0m\u001b[0;34m)\u001b[0m\u001b[0;34m\u001b[0m\u001b[0m\n\u001b[1;32m   1963\u001b[0m         \u001b[0;32melse\u001b[0m\u001b[0;34m:\u001b[0m\u001b[0;34m\u001b[0m\u001b[0m\n\u001b[0;32m-> 1964\u001b[0;31m             \u001b[0;32mreturn\u001b[0m \u001b[0mself\u001b[0m\u001b[0;34m.\u001b[0m\u001b[0m_getitem_column\u001b[0m\u001b[0;34m(\u001b[0m\u001b[0mkey\u001b[0m\u001b[0;34m)\u001b[0m\u001b[0;34m\u001b[0m\u001b[0m\n\u001b[0m\u001b[1;32m   1965\u001b[0m \u001b[0;34m\u001b[0m\u001b[0m\n\u001b[1;32m   1966\u001b[0m     \u001b[0;32mdef\u001b[0m \u001b[0m_getitem_column\u001b[0m\u001b[0;34m(\u001b[0m\u001b[0mself\u001b[0m\u001b[0;34m,\u001b[0m \u001b[0mkey\u001b[0m\u001b[0;34m)\u001b[0m\u001b[0;34m:\u001b[0m\u001b[0;34m\u001b[0m\u001b[0m\n",
      "\u001b[0;32m~/.virtualenvs/3/lib/python3.5/site-packages/pandas/core/frame.py\u001b[0m in \u001b[0;36m_getitem_column\u001b[0;34m(self, key)\u001b[0m\n\u001b[1;32m   1969\u001b[0m         \u001b[0;31m# get column\u001b[0m\u001b[0;34m\u001b[0m\u001b[0;34m\u001b[0m\u001b[0m\n\u001b[1;32m   1970\u001b[0m         \u001b[0;32mif\u001b[0m \u001b[0mself\u001b[0m\u001b[0;34m.\u001b[0m\u001b[0mcolumns\u001b[0m\u001b[0;34m.\u001b[0m\u001b[0mis_unique\u001b[0m\u001b[0;34m:\u001b[0m\u001b[0;34m\u001b[0m\u001b[0m\n\u001b[0;32m-> 1971\u001b[0;31m             \u001b[0;32mreturn\u001b[0m \u001b[0mself\u001b[0m\u001b[0;34m.\u001b[0m\u001b[0m_get_item_cache\u001b[0m\u001b[0;34m(\u001b[0m\u001b[0mkey\u001b[0m\u001b[0;34m)\u001b[0m\u001b[0;34m\u001b[0m\u001b[0m\n\u001b[0m\u001b[1;32m   1972\u001b[0m \u001b[0;34m\u001b[0m\u001b[0m\n\u001b[1;32m   1973\u001b[0m         \u001b[0;31m# duplicate columns & possible reduce dimensionality\u001b[0m\u001b[0;34m\u001b[0m\u001b[0;34m\u001b[0m\u001b[0m\n",
      "\u001b[0;32m~/.virtualenvs/3/lib/python3.5/site-packages/pandas/core/generic.py\u001b[0m in \u001b[0;36m_get_item_cache\u001b[0;34m(self, item)\u001b[0m\n\u001b[1;32m   1643\u001b[0m         \u001b[0mres\u001b[0m \u001b[0;34m=\u001b[0m \u001b[0mcache\u001b[0m\u001b[0;34m.\u001b[0m\u001b[0mget\u001b[0m\u001b[0;34m(\u001b[0m\u001b[0mitem\u001b[0m\u001b[0;34m)\u001b[0m\u001b[0;34m\u001b[0m\u001b[0m\n\u001b[1;32m   1644\u001b[0m         \u001b[0;32mif\u001b[0m \u001b[0mres\u001b[0m \u001b[0;32mis\u001b[0m \u001b[0;32mNone\u001b[0m\u001b[0;34m:\u001b[0m\u001b[0;34m\u001b[0m\u001b[0m\n\u001b[0;32m-> 1645\u001b[0;31m             \u001b[0mvalues\u001b[0m \u001b[0;34m=\u001b[0m \u001b[0mself\u001b[0m\u001b[0;34m.\u001b[0m\u001b[0m_data\u001b[0m\u001b[0;34m.\u001b[0m\u001b[0mget\u001b[0m\u001b[0;34m(\u001b[0m\u001b[0mitem\u001b[0m\u001b[0;34m)\u001b[0m\u001b[0;34m\u001b[0m\u001b[0m\n\u001b[0m\u001b[1;32m   1646\u001b[0m             \u001b[0mres\u001b[0m \u001b[0;34m=\u001b[0m \u001b[0mself\u001b[0m\u001b[0;34m.\u001b[0m\u001b[0m_box_item_values\u001b[0m\u001b[0;34m(\u001b[0m\u001b[0mitem\u001b[0m\u001b[0;34m,\u001b[0m \u001b[0mvalues\u001b[0m\u001b[0;34m)\u001b[0m\u001b[0;34m\u001b[0m\u001b[0m\n\u001b[1;32m   1647\u001b[0m             \u001b[0mcache\u001b[0m\u001b[0;34m[\u001b[0m\u001b[0mitem\u001b[0m\u001b[0;34m]\u001b[0m \u001b[0;34m=\u001b[0m \u001b[0mres\u001b[0m\u001b[0;34m\u001b[0m\u001b[0m\n",
      "\u001b[0;32m~/.virtualenvs/3/lib/python3.5/site-packages/pandas/core/internals.py\u001b[0m in \u001b[0;36mget\u001b[0;34m(self, item, fastpath)\u001b[0m\n\u001b[1;32m   3588\u001b[0m \u001b[0;34m\u001b[0m\u001b[0m\n\u001b[1;32m   3589\u001b[0m             \u001b[0;32mif\u001b[0m \u001b[0;32mnot\u001b[0m \u001b[0misnull\u001b[0m\u001b[0;34m(\u001b[0m\u001b[0mitem\u001b[0m\u001b[0;34m)\u001b[0m\u001b[0;34m:\u001b[0m\u001b[0;34m\u001b[0m\u001b[0m\n\u001b[0;32m-> 3590\u001b[0;31m                 \u001b[0mloc\u001b[0m \u001b[0;34m=\u001b[0m \u001b[0mself\u001b[0m\u001b[0;34m.\u001b[0m\u001b[0mitems\u001b[0m\u001b[0;34m.\u001b[0m\u001b[0mget_loc\u001b[0m\u001b[0;34m(\u001b[0m\u001b[0mitem\u001b[0m\u001b[0;34m)\u001b[0m\u001b[0;34m\u001b[0m\u001b[0m\n\u001b[0m\u001b[1;32m   3591\u001b[0m             \u001b[0;32melse\u001b[0m\u001b[0;34m:\u001b[0m\u001b[0;34m\u001b[0m\u001b[0m\n\u001b[1;32m   3592\u001b[0m                 \u001b[0mindexer\u001b[0m \u001b[0;34m=\u001b[0m \u001b[0mnp\u001b[0m\u001b[0;34m.\u001b[0m\u001b[0marange\u001b[0m\u001b[0;34m(\u001b[0m\u001b[0mlen\u001b[0m\u001b[0;34m(\u001b[0m\u001b[0mself\u001b[0m\u001b[0;34m.\u001b[0m\u001b[0mitems\u001b[0m\u001b[0;34m)\u001b[0m\u001b[0;34m)\u001b[0m\u001b[0;34m[\u001b[0m\u001b[0misnull\u001b[0m\u001b[0;34m(\u001b[0m\u001b[0mself\u001b[0m\u001b[0;34m.\u001b[0m\u001b[0mitems\u001b[0m\u001b[0;34m)\u001b[0m\u001b[0;34m]\u001b[0m\u001b[0;34m\u001b[0m\u001b[0m\n",
      "\u001b[0;32m~/.virtualenvs/3/lib/python3.5/site-packages/pandas/core/indexes/base.py\u001b[0m in \u001b[0;36mget_loc\u001b[0;34m(self, key, method, tolerance)\u001b[0m\n\u001b[1;32m   2442\u001b[0m                 \u001b[0;32mreturn\u001b[0m \u001b[0mself\u001b[0m\u001b[0;34m.\u001b[0m\u001b[0m_engine\u001b[0m\u001b[0;34m.\u001b[0m\u001b[0mget_loc\u001b[0m\u001b[0;34m(\u001b[0m\u001b[0mkey\u001b[0m\u001b[0;34m)\u001b[0m\u001b[0;34m\u001b[0m\u001b[0m\n\u001b[1;32m   2443\u001b[0m             \u001b[0;32mexcept\u001b[0m \u001b[0mKeyError\u001b[0m\u001b[0;34m:\u001b[0m\u001b[0;34m\u001b[0m\u001b[0m\n\u001b[0;32m-> 2444\u001b[0;31m                 \u001b[0;32mreturn\u001b[0m \u001b[0mself\u001b[0m\u001b[0;34m.\u001b[0m\u001b[0m_engine\u001b[0m\u001b[0;34m.\u001b[0m\u001b[0mget_loc\u001b[0m\u001b[0;34m(\u001b[0m\u001b[0mself\u001b[0m\u001b[0;34m.\u001b[0m\u001b[0m_maybe_cast_indexer\u001b[0m\u001b[0;34m(\u001b[0m\u001b[0mkey\u001b[0m\u001b[0;34m)\u001b[0m\u001b[0;34m)\u001b[0m\u001b[0;34m\u001b[0m\u001b[0m\n\u001b[0m\u001b[1;32m   2445\u001b[0m \u001b[0;34m\u001b[0m\u001b[0m\n\u001b[1;32m   2446\u001b[0m         \u001b[0mindexer\u001b[0m \u001b[0;34m=\u001b[0m \u001b[0mself\u001b[0m\u001b[0;34m.\u001b[0m\u001b[0mget_indexer\u001b[0m\u001b[0;34m(\u001b[0m\u001b[0;34m[\u001b[0m\u001b[0mkey\u001b[0m\u001b[0;34m]\u001b[0m\u001b[0;34m,\u001b[0m \u001b[0mmethod\u001b[0m\u001b[0;34m=\u001b[0m\u001b[0mmethod\u001b[0m\u001b[0;34m,\u001b[0m \u001b[0mtolerance\u001b[0m\u001b[0;34m=\u001b[0m\u001b[0mtolerance\u001b[0m\u001b[0;34m)\u001b[0m\u001b[0;34m\u001b[0m\u001b[0m\n",
      "\u001b[0;32mpandas/_libs/index.pyx\u001b[0m in \u001b[0;36mpandas._libs.index.IndexEngine.get_loc (pandas/_libs/index.c:5280)\u001b[0;34m()\u001b[0m\n",
      "\u001b[0;32mpandas/_libs/index.pyx\u001b[0m in \u001b[0;36mpandas._libs.index.IndexEngine.get_loc (pandas/_libs/index.c:5126)\u001b[0;34m()\u001b[0m\n",
      "\u001b[0;32mpandas/_libs/hashtable_class_helper.pxi\u001b[0m in \u001b[0;36mpandas._libs.hashtable.PyObjectHashTable.get_item (pandas/_libs/hashtable.c:20523)\u001b[0;34m()\u001b[0m\n",
      "\u001b[0;32mpandas/_libs/hashtable_class_helper.pxi\u001b[0m in \u001b[0;36mpandas._libs.hashtable.PyObjectHashTable.get_item (pandas/_libs/hashtable.c:20477)\u001b[0;34m()\u001b[0m\n",
      "\u001b[0;31mKeyError\u001b[0m: 'bilirubin'"
     ]
    }
   ],
   "source": [
    "# #############################################################################\n",
    "# Load data\n",
    "\n",
    "data = pd.read_csv(\"HM_cohort_wth_LabTest.csv\", index_col=0)\n",
    "data['urea']=data['bun']\n",
    "data.loc[:,'leukemia'] = pd.Series(1, index=data.index[data['d_type']=='leukemia'])\n",
    "data.loc[:,'lymphoma'] = pd.Series(1, index=data.index[data['d_type']=='lymphoma'])\n",
    "data.loc[:,'myeloma'] = pd.Series(1, index=data.index[data['d_type']=='myeloma'])\n",
    "data.loc[:,'myelodysplastic_syndrome'] = pd.Series(1, index=data.index[data['d_type']=='myelodysplastic_syndrome'])\n",
    "data[['p_blood_culture_1', 'rbc_1', 'platelet_1', 'vasopressor_1', \n",
    "      'ventilation_1','leukemia','lymphoma','myelodysplastic_syndrome',\n",
    "      'myeloma']] = data[['p_blood_culture_1', 'rbc_1', 'platelet_1', 'vasopressor_1', 'ventilation_1',\n",
    "                          'leukemia','lymphoma','myelodysplastic_syndrome','myeloma']].fillna(0)    \n",
    "\n",
    "df = pd.DataFrame(data, columns =['age', 'sofa','wbc','hemoglobin','platelet','sodium','potassium','creatinine','urea'\n",
    "                                  'bilirubin',\n",
    "                                  'ast',\n",
    "                                  'alt',\n",
    "                                  'abg_ph', 'abg_pco2', \n",
    "                                  #'abg_po2', \n",
    "                                  'abg_bicarbonate','abg_baseexcess', \n",
    "                                  #'abg_spo2', \n",
    "                                  'abg_lactate',\n",
    "                                  'gender',\n",
    "                                  'p_blood_culture_1',\n",
    "                                  'rbc_1', 'platelet_1','ventilation_1','vasopressor_1', 'rrt',\n",
    "                                  'hypertension', 'congestive_heart_failure', 'cardiac_arrhythmias', 'chronic_pulmonary',\n",
    "                                  'depression', 'diabetes_uncomplicated', 'hypothyroidism',\n",
    "                                  'renal_failure', 'rheumatoid_arthritis', 'liver_disease','peptic_ulcer',\n",
    "                                  #'leukemia','lymphoma','myeloma','myelodysplastic_syndrome',\n",
    "           \n",
    "                                  'mort_icu',\n",
    "                                  'mort_hosp'\n",
    "                                  \n",
    "                                ])\n",
    "\n",
    "\n",
    "df['gender'] = df['gender'].str.replace('M','1')\n",
    "df['gender'] = df['gender'].str.replace('F','0')\n",
    "\n",
    "#concert the unit for creatinine from mg/dl to umol/l\n",
    "df['creatinine']=df['creatinine']*88.42\n",
    "#convert the unit for bilirubin from mg/dl to umol/l\n",
    "df['bilirubin']=df['bilirubin']*17.1\n",
    "#convert the unit for BUN (urea) from mg/dL to mmol/L\n",
    "df['urea']=df['urea']** 0.3571\n",
    "\n",
    "#df=df.dropna(axis = 0, how='any')\n",
    "#df=df.fillna(df.median())\n",
    "\n",
    "\n",
    "mimic_X = pd.DataFrame(df,columns =[\n",
    "                              'age', \n",
    "                              'sofa','wbc','hemoglobin','platelet','sodium','potassium','creatinine','urea'\n",
    "                              'bilirubin',\n",
    "                              'ast',\n",
    "                              'alt',\n",
    "                              'abg_ph', 'abg_pco2', \n",
    "                              #'abg_po2', \n",
    "                              'abg_bicarbonate','abg_baseexcess', \n",
    "                              #'abg_spo2', \n",
    "                              'abg_lactate',\n",
    "                              'gender',\n",
    "                              'p_blood_culture_1', \n",
    "                              'rbc_1', \n",
    "                              'platelet_1','ventilation_1','vasopressor_1', 'rrt',\n",
    "                              #'hypertension', 'congestive_heart_failure', 'cardiac_arrhythmias', 'chronic_pulmonary',\n",
    "                              #'depression', 'diabetes_uncomplicated', 'hypothyroidism',\n",
    "                              #'renal_failure', 'rheumatoid_arthritis', 'liver_disease','peptic_ulcer',\n",
    "                              #'leukemia','lymphoma','myeloma','myelodysplastic_syndrome'\n",
    "                                 ])\n",
    "\n",
    "mimic_y = pd.DataFrame(df,columns =['mort_icu'])\n",
    "#mimic_y = pd.DataFrame(df,columns =['mort_hosp'])"
   ]
  },
  {
   "cell_type": "code",
   "execution_count": 6,
   "metadata": {},
   "outputs": [],
   "source": [
    "NUHdata = pd.read_csv(\"NUH_HM data.csv\", index_col=0)\n",
    "NUHdata[['p_blood_culture_1', 'rbc_1', 'platelet_1', 'vasopressor_1', \n",
    "      'ventilation_1','leukaemia','lymphoma','myelodysplastic_syndrome',\n",
    "      'myeloma']] = NUHdata[['p_blood_culture_1', 'rbc_1', 'platelet_1', 'vasopressor_1', 'ventilation_1',\n",
    "                          'leukemia','lymphoma','myelodysplastic_syndrome','myeloma']].fillna(0)\n",
    "\n",
    "NUHdf = pd.DataFrame(NUHdata, columns =[\n",
    "                                  'age', \n",
    "    \n",
    "                                  'sofa','wbc','hemoglobin','platelet','sodium','potassium','creatinine','urea',\n",
    "                                  'bilirubin',\n",
    "                                  'ast', \n",
    "                                  'alt',\n",
    "                                  'abg_ph', 'abg_pco2', \n",
    "                                  #'abg_po2', \n",
    "                                  'abg_bicarbonate','abg_baseexcess',\n",
    "                                  #'abg_spo2', \n",
    "                                  'abg_lactate',\n",
    "                                  'gender',\n",
    "                                  'p_blood_culture_1',\n",
    "                                  'rbc_1', 'platelet_1','ventilation_1','vasopressor_1', 'rrt',\n",
    "                                  #'hypertension', 'congestive_heart_failure', 'cardiac_arrhythmias', 'chronic_pulmonary',\n",
    "                                  #'depression', 'diabetes_uncomplicated', 'hypothyroidism',\n",
    "                                  #'renal_failure', 'rheumatoid_arthritis', 'liver_disease','peptic_ulcer',\n",
    "                                  #'leukemia','lymphoma','myeloma','myelodysplastic_syndrome',\n",
    "                                  'mort_icu',\n",
    "                                  'mort_hosp'\n",
    "                                ])\n",
    "\n",
    "\n",
    "\n",
    "NUHdf['gender'] = NUHdf['gender'].str.replace('Male','1')\n",
    "NUHdf['gender'] = NUHdf['gender'].str.replace('Female','0')\n",
    "#NUHdf=NUHdf.fillna(NUHdf.median())\n",
    "#NUHdf=NUHdf.dropna(axis = 0, how='any')\n",
    "\n",
    "\n",
    "NUH_X = pd.DataFrame(NUHdf,columns =[\n",
    "                              'age', \n",
    "                              'sofa','wbc','hemoglobin','platelet','sodium','potassium','creatinine','urea',\n",
    "                              'bilirubin',\n",
    "                              'ast', \n",
    "                              'alt',\n",
    "                              'abg_ph', 'abg_pco2', \n",
    "                              #'abg_po2', \n",
    "                              'abg_bicarbonate','abg_baseexcess', \n",
    "                              #'abg_spo2', \n",
    "                              'abg_lactate',\n",
    "                              'gender',\n",
    "                              'p_blood_culture_1',\n",
    "                              'rbc_1', \n",
    "                              'platelet_1','ventilation_1','vasopressor_1', 'rrt',\n",
    "                              'hypertension', 'congestive_heart_failure', 'cardiac_arrhythmias', 'chronic_pulmonary',\n",
    "                              'depression', 'diabetes_uncomplicated', 'hypothyroidism',\n",
    "                              'renal_failure', 'rheumatoid_arthritis', 'liver_disease','peptic_ulcer',\n",
    "                              #'leukemia','lymphoma','myeloma','myelodysplastic_syndrome'\n",
    "                                 ])\n",
    "\n",
    "NUH_y = pd.DataFrame(NUHdf,columns =['mort_icu'])\n",
    "#NUH_y = pd.DataFrame(NUHdf,columns =['mort_hosp'])"
   ]
  },
  {
   "cell_type": "code",
   "execution_count": 7,
   "metadata": {},
   "outputs": [],
   "source": [
    "NUH_X = np.array(NUH_X)\n",
    "NUH_y = np.ravel(NUH_y)\n",
    "n_samples, n_features = NUH_X.shape"
   ]
  },
  {
   "cell_type": "code",
   "execution_count": 13,
   "metadata": {},
   "outputs": [
    {
     "name": "stdout",
     "output_type": "stream",
     "text": [
      "10-fold Cross Validation AUC: 0.740 (+/- 0.093)\n",
      "10-fold Cross Validation AUC: 0.647-0.833\n",
      "Final Model AUC: 0.792\n"
     ]
    }
   ],
   "source": [
    "\n",
    "score =[]\n",
    "# #############################################################################\n",
    "# Fit classification model\n",
    "# use XGboost\n",
    "\n",
    "params = {'objective':'binary:logistic', \n",
    "          \n",
    "          \n",
    "          'gamma':0.1,\n",
    "          'learning_rate':0.1,\n",
    "          'min_child_weight':3, 'max_depth':5,\n",
    "          'n_estimators':140,'nthread':4,\n",
    "          'reg_lambda':1,'reg_alpha':0.001,\n",
    "          'scale_pos_weight':1, 'subsample':0.7,'colsample_bytree':0.8,'scale_pos_weight':1\n",
    "          }\n",
    "#kf = KFold(n_splits=10, shuffle=True, random_state=159)\n",
    "kf = KFold(n_splits=10)\n",
    "for train_index, test_index in kf.split(NUH_X):\n",
    "    X_train, X_test = NUH_X[train_index], NUH_X[test_index]\n",
    "    y_train, y_test = NUH_y[train_index], NUH_y[test_index]\n",
    "    classifier = xgb.XGBClassifier(**params)\n",
    "    classifier.fit(X_train, y_train)\n",
    "    predictions = classifier.predict(X_test)\n",
    "    fpr, tpr, _ = roc_curve(y_test, predictions)\n",
    "    roc_auc = auc(fpr, tpr)\n",
    "    score.append(roc_auc.ravel().copy())\n",
    "\n",
    "score=np.array(score)\n",
    "print(\"10-fold Cross Validation AUC: %0.3f (+/- %0.3f)\" % (score.mean(), score.std()))\n",
    "print(\"10-fold Cross Validation AUC: %0.3f-%0.3f\" % (score.mean()-score.std(), score.mean()+score.std()))\n",
    "# split data into train and test sets\n",
    "test_size = 0.3\n",
    "X_train_final, X_test_final, y_train_final, y_test_final = train_test_split(NUH_X, NUH_y, \n",
    "                                                                            test_size=test_size, \n",
    "                                                                            random_state=84,\n",
    "                                                                            shuffle=True)\n",
    "\n",
    "# fit model no training data\n",
    "model = xgb.XGBClassifier(**params)\n",
    "model.fit(X_train_final, y_train_final)\n",
    "predictions = model.predict(X_test_final)\n",
    "\n",
    "\n",
    "#ROC curve\n",
    "fpr, tpr, _ = roc_curve(y_test_final, predictions)\n",
    "roc_auc = auc(fpr, tpr)\n",
    "print(\"Final Model AUC: %0.3f\" %roc_auc)\n",
    "#done with NUH local data"
   ]
  },
  {
   "cell_type": "code",
   "execution_count": 14,
   "metadata": {},
   "outputs": [
    {
     "name": "stdout",
     "output_type": "stream",
     "text": [
      "10-fold Cross Validation AUC: 0.740 (+/- 0.093)\n",
      "10-fold Cross Validation AUC: 0.647-0.833\n",
      "Final Model AUC: 0.792\n"
     ]
    }
   ],
   "source": [
    "\n",
    "score =[]\n",
    "# #############################################################################\n",
    "# Fit classification model\n",
    "# use XGboost\n",
    "\n",
    "params = {'objective':'binary:logistic', \n",
    "          \n",
    "          \n",
    "          'gamma':0.1,\n",
    "          'learning_rate':0.1,\n",
    "          'min_child_weight':3, 'max_depth':5,\n",
    "          'n_estimators':140,'nthread':4,\n",
    "          'reg_lambda':1,'reg_alpha':0.001,\n",
    "          'scale_pos_weight':1, 'subsample':0.7,'colsample_bytree':0.8,'scale_pos_weight':1\n",
    "          }\n",
    "#kf = KFold(n_splits=10, shuffle=True, random_state=159)\n",
    "kf = KFold(n_splits=10)\n",
    "for train_index, test_index in kf.split(NUH_X):\n",
    "    X_train, X_test = NUH_X[train_index], NUH_X[test_index]\n",
    "    y_train, y_test = NUH_y[train_index], NUH_y[test_index]\n",
    "    classifier = xgb.XGBClassifier(**params)\n",
    "    classifier.fit(X_train, y_train)\n",
    "    predictions = classifier.predict(X_test)\n",
    "    fpr, tpr, _ = roc_curve(y_test, predictions)\n",
    "    roc_auc = auc(fpr, tpr)\n",
    "    score.append(roc_auc.ravel().copy())\n",
    "\n",
    "score=np.array(score)\n",
    "print(\"10-fold Cross Validation AUC: %0.3f (+/- %0.3f)\" % (score.mean(), score.std()))\n",
    "print(\"10-fold Cross Validation AUC: %0.3f-%0.3f\" % (score.mean()-score.std(), score.mean()+score.std()))\n",
    "# split data into train and test sets\n",
    "test_size = 0.3\n",
    "X_train_final, X_test_final, y_train_final, y_test_final = train_test_split(NUH_X, NUH_y, \n",
    "                                                                            test_size=test_size, \n",
    "                                                                            random_state=84,\n",
    "                                                                            shuffle=True)\n",
    "\n",
    "# fit model no training data\n",
    "model = xgb.XGBClassifier(**params)\n",
    "model.fit(X_train_final, y_train_final)\n",
    "predictions = model.predict(X_test_final)\n",
    "\n",
    "\n",
    "#ROC curve\n",
    "fpr, tpr, _ = roc_curve(y_test_final, predictions)\n",
    "roc_auc = auc(fpr, tpr)\n",
    "print(\"Final Model AUC: %0.3f\" %roc_auc)\n",
    "#done with NUH local data"
   ]
  },
  {
   "cell_type": "code",
   "execution_count": null,
   "metadata": {},
   "outputs": [],
   "source": []
  },
  {
   "cell_type": "code",
   "execution_count": null,
   "metadata": {},
   "outputs": [],
   "source": []
  },
  {
   "cell_type": "code",
   "execution_count": null,
   "metadata": {},
   "outputs": [],
   "source": [
    "# extract feature importance\n",
    "def get_xgb_imp(xgb, feat_names):\n",
    "    from numpy import array\n",
    "    imp_vals = xgb.booster().get_fscore()\n",
    "    imp_dict = {feat_names[i]:float(imp_vals.get('f'+str(i),0.)) for i in range(len(feat_names))}\n",
    "    total = array(imp_dict.values()).sum()\n",
    "    return {k:v for k,v in imp_dict.items()}\n",
    "\n",
    "features_names = ['age', \n",
    "                  'sofa','wbc','hemoglobin','platelet','sodium','potassium','creatinine',\n",
    "                  'bilirubin',\n",
    "                  'ast', \n",
    "                  'alt',\n",
    "                  'abg_ph', 'abg_pco2', \n",
    "                  #'abg_po2', \n",
    "                  'abg_bicarbonate','abg_baseexcess',\n",
    "                  #'abg_spo2', \n",
    "                  'abg_lactate',\n",
    "                  'gender',\n",
    "                  'p_blood_culture_1',\n",
    "                  'rbc_1',\n",
    "                  'platelet_1','ventilation_1','vasopressor_1', 'rrt']\n",
    "d=get_xgb_imp(model,features_names)\n",
    "sorted_d= collections.OrderedDict(sorted(d.items(), key=operator.itemgetter(1)))\n",
    "#plot features importance\n",
    "plt.figure(figsize=(10, 6))\n",
    "plt.barh(range(len(sorted_d)),sorted_d.values(),align='center')\n",
    "plt.yticks(range(len(sorted_d)),list(sorted_d.keys()))\n",
    "plt.show()"
   ]
  },
  {
   "cell_type": "code",
   "execution_count": 46,
   "metadata": {},
   "outputs": [
    {
     "data": {
      "text/plain": [
       "0.71010641847496059"
      ]
     },
     "execution_count": 46,
     "metadata": {},
     "output_type": "execute_result"
    }
   ],
   "source": [
    "auc_score=[]\n",
    "\n",
    "\n",
    "\n",
    "for i in range(100,200):\n",
    "    params = {'objective':'binary:logistic', \n",
    "          \n",
    "          \n",
    "          'gamma':0,\n",
    "          'learning_rate':0.1,\n",
    "          'min_child_weight':3, 'max_depth':5,\n",
    "          'n_estimators':140,'nthread':4,\n",
    "          'reg_lambda':1,'reg_alpha':0.001,\n",
    "          'scale_pos_weight':1, 'subsample':0.7,'colsample_bytree':0.8,'scale_pos_weight':1\n",
    "          }  \n",
    "    score=[]\n",
    "    score1=[]\n",
    "    kf = KFold(n_splits=10, shuffle=True)\n",
    "    for train_index, test_index in kf.split(NUH_X):\n",
    "        X_train, X_test = NUH_X[train_index], NUH_X[test_index]\n",
    "        y_train, y_test = NUH_y[train_index], NUH_y[test_index]\n",
    "        classifier = xgb.XGBClassifier(**params)\n",
    "        classifier.fit(X_train, y_train)\n",
    "        predictions = classifier.predict(X_test)\n",
    "        fpr, tpr, _ = roc_curve(y_test, predictions)\n",
    "        score.append(auc(fpr, tpr).ravel().copy())\n",
    "    \n",
    "    score1=np.array(score)\n",
    "    auc_score.append(score1.mean())\n",
    "    \n",
    "        \n",
    "\n",
    "\n",
    "\n",
    "\n",
    "\n",
    "np.mean(auc_score)\n",
    "#3,8 0.67342994176909721\n",
    "#3,5 0.63828652461831048\n",
    "#subsample, colsample_bytree 0.7,0.8 0.65701409198929317\n",
    "#'reg_alpha':0.001,0.65842684711553956\n",
    "#'n_estimators':160 0.68322942123487618"
   ]
  },
  {
   "cell_type": "code",
   "execution_count": 47,
   "metadata": {},
   "outputs": [
    {
     "data": {
      "text/plain": [
       "0.018174624480559322"
      ]
     },
     "execution_count": 47,
     "metadata": {},
     "output_type": "execute_result"
    }
   ],
   "source": [
    "np.std(auc_score)"
   ]
  },
  {
   "cell_type": "code",
   "execution_count": null,
   "metadata": {},
   "outputs": [],
   "source": []
  },
  {
   "cell_type": "code",
   "execution_count": 36,
   "metadata": {},
   "outputs": [
    {
     "data": {
      "text/plain": [
       "0.69942611574160529"
      ]
     },
     "execution_count": 36,
     "metadata": {},
     "output_type": "execute_result"
    }
   ],
   "source": [
    "auc_score=[]\n",
    "#X0, X1, y0, y1 = train_test_split(mimic_X, mimic_y, test_size=0.402)\n",
    "\n",
    "\n",
    "for i in range(1,100):\n",
    "    score=[]\n",
    "    params = {'objective':'binary:logistic', \n",
    "          \n",
    "          \n",
    "          'gamma':0,\n",
    "          'learning_rate':0.1,\n",
    "          'min_child_weight':3, 'max_depth':7,\n",
    "          'n_estimators':140,'nthread':4,\n",
    "          'reg_lambda':1,'reg_alpha':0.001,\n",
    "          'scale_pos_weight':1, 'subsample':0.8,'colsample_bytree':0.8,'scale_pos_weight':1\n",
    "          } \n",
    "    \n",
    "    X_train_final, X_test_final, y_train_final, y_test_final = train_test_split(NUH_X, NUH_y, \n",
    "                                                                                test_size=0.3\n",
    "                                                                                ,shuffle=True\n",
    "                                                                                )\n",
    "    # fit model no training data\n",
    "    model = xgb.XGBClassifier(**params)\n",
    "    model.fit(X_train_final, y_train_final)\n",
    "    predictions = model.predict(X_test_final)\n",
    "    #ROC curve\n",
    "    fpr, tpr, _ = roc_curve(y_test_final, predictions)\n",
    "    score.append(auc(fpr, tpr).ravel().copy())\n",
    "    score=np.array(score)\n",
    "    auc_score.append(score.mean())\n",
    "        \n",
    "\n",
    "\n",
    "\n",
    "\n",
    "\n",
    "np.mean(auc_score)"
   ]
  },
  {
   "cell_type": "code",
   "execution_count": 34,
   "metadata": {},
   "outputs": [
    {
     "data": {
      "text/plain": [
       "0.04242920702332479"
      ]
     },
     "execution_count": 34,
     "metadata": {},
     "output_type": "execute_result"
    }
   ],
   "source": [
    "np.std(auc_score)"
   ]
  },
  {
   "cell_type": "code",
   "execution_count": null,
   "metadata": {},
   "outputs": [],
   "source": []
  }
 ],
 "metadata": {
  "kernelspec": {
   "display_name": "Personal Py3",
   "language": "python",
   "name": "py3user"
  },
  "language_info": {
   "codemirror_mode": {
    "name": "ipython",
    "version": 3
   },
   "file_extension": ".py",
   "mimetype": "text/x-python",
   "name": "python",
   "nbconvert_exporter": "python",
   "pygments_lexer": "ipython3",
   "version": "3.5.2"
  }
 },
 "nbformat": 4,
 "nbformat_minor": 2
}
